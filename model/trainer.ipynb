{
 "cells": [
  {
   "cell_type": "code",
   "execution_count": null,
   "metadata": {},
   "outputs": [],
   "source": [
    "# Load the data from Dataset.csv and turn that into a DataLoader\n",
    "\n",
    "from utils import get_train_test_loaders\n",
    "\n",
    "train, test = get_train_test_loaders('Dataset.csv', batch_size=8)"
   ]
  },
  {
   "cell_type": "code",
   "execution_count": null,
   "metadata": {},
   "outputs": [],
   "source": [
    "# Load the CNN-LSTM Model for trainig\n",
    "\n",
    "from cnn_lstm import CNNLSTM\n",
    "\n",
    "model = CNNLSTM()\n",
    "\n",
    "# Test a forward pass using first batch of training data\n",
    "dummy_input = next(iter(train))[0]\n",
    "print(\"Input shape:\", dummy_input.shape)\n",
    "output = model(dummy_input)\n",
    "print(\"Output shape:\", output.shape)\n",
    "\n",
    "# Expected input: (batch_size, seq_len, features)\n",
    "# Expected output: (batch_size, num_classes)"
   ]
  },
  {
   "cell_type": "code",
   "execution_count": null,
   "metadata": {},
   "outputs": [],
   "source": [
    "# Now train the model\n",
    "\n",
    "model.train_model(train)\n",
    "\n",
    "# and test the model\n",
    "\n",
    "from utils import test_model\n",
    "test_model(model, test, device=\"cuda\")"
   ]
  }
 ],
 "metadata": {
  "language_info": {
   "name": "python"
  }
 },
 "nbformat": 4,
 "nbformat_minor": 2
}
