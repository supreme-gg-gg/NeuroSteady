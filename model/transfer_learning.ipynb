{
 "cells": [
  {
   "cell_type": "code",
   "execution_count": null,
   "metadata": {},
   "outputs": [],
   "source": [
    "from cnn_lstm_1d import CNNLSTM\n",
    "import torch\n",
    "import torch.nn as nn"
   ]
  },
  {
   "cell_type": "code",
   "execution_count": null,
   "metadata": {},
   "outputs": [],
   "source": [
    "# Load pretrained model weights\n",
    "pretrained_model = CNNLSTM()\n",
    "pretrained_model.load_state_dict(torch.load(\"weights/cnnlstm-1.pth\"))\n",
    "\n",
    "# Freeze CNN and LSTM layers\n",
    "for param in pretrained_model.cnn.parameters():\n",
    "    param.requires_grad = False\n",
    "for param in pretrained_model.lstm.parameters():\n",
    "    param.requires_grad = False\n",
    "\n",
    "# Add adapter layers\n",
    "class AdaptedModel(nn.Module):\n",
    "    def __init__(self, base_model, adapter_size=32, num_classes=2):\n",
    "        super(AdaptedModel, self).__init__()\n",
    "        self.base = base_model\n",
    "        self.adapter = nn.Sequential(\n",
    "            nn.Linear(base_model.fc.in_features, adapter_size),\n",
    "            nn.ReLU(),\n",
    "            nn.Linear(adapter_size, num_classes)\n",
    "        )\n",
    "        self.optimizer = torch.optim.Adam(self.adapter.parameters())\n",
    "        self.criterion = nn.CrossEntropy\n",
    "    \n",
    "    def forward(self, x):\n",
    "        x = self.base(x)\n",
    "        x = self.adapter(x[:, -1, :])\n",
    "        return x\n",
    "\n",
    "    def train(self, train_loader, num_epochs=50):\n",
    "        for epoch in range(num_epochs):\n",
    "            self.adapter.train()\n",
    "            total_loss = 0\n",
    "            correct = 0\n",
    "            for x, y in train_loader:\n",
    "                self.optimizer.zero_grad()\n",
    "                outputs = self(x)\n",
    "                loss = self.criterion(outputs, y)\n",
    "                loss.backward()\n",
    "                self.optimizer.step()\n",
    "                total_loss += loss.item()\n",
    "                correct += (outputs.argmax(dim=1) == y).sum().item()\n",
    "            print(f\"Epoch {epoch+1}/{num_epochs}, Loss: {total_loss:.4f}, Accuracy: {correct / len(train_loader.dataset):.4f}\")\n",
    "        torch.save(self.state_dict(), \"weights/adapted-1.pth\")\n",
    "        print(\"Model saved\")\n"
   ]
  },
  {
   "cell_type": "code",
   "execution_count": null,
   "metadata": {},
   "outputs": [],
   "source": [
    "# Load the train data\n",
    "from utils import get_train_test_loaders\n",
    "train_loader, test_loader = get_train_test_loaders(\"data/custom.csv\")"
   ]
  },
  {
   "cell_type": "code",
   "execution_count": null,
   "metadata": {},
   "outputs": [],
   "source": [
    "# Initialize adapted model\n",
    "model = AdaptedModel(pretrained_model)\n",
    "model.train(train_loader)"
   ]
  },
  {
   "cell_type": "code",
   "execution_count": null,
   "metadata": {},
   "outputs": [],
   "source": [
    "# Test the model\n",
    "from utils import test_model\n",
    "test_model(model, test_loader)"
   ]
  }
 ],
 "metadata": {
  "language_info": {
   "name": "python"
  }
 },
 "nbformat": 4,
 "nbformat_minor": 2
}
