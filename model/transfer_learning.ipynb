{
 "cells": [
  {
   "cell_type": "code",
   "execution_count": null,
   "metadata": {},
   "outputs": [],
   "source": [
    "from cnn_lstm_1d import CNNLSTM\n",
    "from fine_tuned import AdaptedModel\n",
    "import torch"
   ]
  },
  {
   "cell_type": "code",
   "execution_count": null,
   "metadata": {},
   "outputs": [],
   "source": [
    "# Load pretrained model weights\n",
    "pretrained_model = CNNLSTM()\n",
    "pretrained_model.load_state_dict(torch.load(\"weights/cnn-lstm-3.pth\"))\n",
    "\n",
    "# Freeze CNN and LSTM layers\n",
    "for param in pretrained_model.cnn.parameters():\n",
    "    param.requires_grad = False\n",
    "for param in pretrained_model.lstm.parameters():\n",
    "    param.requires_grad = False\n",
    "\n",
    "# Add adapter layers\n",
    "model = AdaptedModel(pretrained_model, device=torch.device(\"cuda\"))"
   ]
  },
  {
   "cell_type": "code",
   "execution_count": null,
   "metadata": {},
   "outputs": [],
   "source": [
    "# Load the train data\n",
    "from utils import get_train_test_loaders\n",
    "train_loader, test_loader = get_train_test_loaders(\"data/custom.csv\")"
   ]
  },
  {
   "cell_type": "code",
   "execution_count": null,
   "metadata": {},
   "outputs": [],
   "source": [
    "# Train the model\n",
    "model.train_model(train_loader)"
   ]
  },
  {
   "cell_type": "code",
   "execution_count": null,
   "metadata": {},
   "outputs": [],
   "source": [
    "# Test the model\n",
    "from utils import test_model\n",
    "test_model(model, test_loader)"
   ]
  }
 ],
 "metadata": {
  "language_info": {
   "name": "python"
  }
 },
 "nbformat": 4,
 "nbformat_minor": 2
}
